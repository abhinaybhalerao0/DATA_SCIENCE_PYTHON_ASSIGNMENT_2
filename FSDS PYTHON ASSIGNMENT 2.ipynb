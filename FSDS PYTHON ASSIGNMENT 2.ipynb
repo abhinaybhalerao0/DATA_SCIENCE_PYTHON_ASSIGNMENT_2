{
 "cells": [
  {
   "cell_type": "markdown",
   "id": "fd698cef-0039-4609-bf40-6cf8a3d52264",
   "metadata": {},
   "source": [
    "1.What are the two values of the Boolean data type? How do you write them?\n",
    "ANS- In Python, the two values of the Boolean data type are True and False. They are written exactly as shown, with an uppercase 'T' for True and an uppercase 'F' for False. These values are keywords in Python and are not enclosed in quotation marks. Here's how you would write them in Python:\n",
    "is_true = True\n",
    "is_false = False\n",
    "You can use these Boolean values in conditional statements, logical operations, and various other aspects of Python programming to control program flow and make decisions based on true or false conditions."
   ]
  },
  {
   "cell_type": "code",
   "execution_count": null,
   "id": "93ed6243-6625-40aa-b8ec-85fe28ceedab",
   "metadata": {},
   "outputs": [],
   "source": [
    "##2. What are the three different types of Boolean operators?\n",
    "##ANS-In Python, as in many programming languages, there are three primary Boolean operators used for combining and manipulating Boolean values. These operators are:\n",
    "# and: The \"and\" operator returns True if both operands are True. Otherwise, it returns False. Here's an example:\n",
    "result = True and False  # This will result in False\n",
    "# or: The \"or\" operator returns True if at least one of the operands is True. If both operands are False, it returns False. Here's an example:\n",
    "result = True or False  # This will result in True\n",
    "# not: The \"not\" operator returns the opposite of the Boolean value of its operand. If the operand is True, it returns False, and if the operand is False, it returns True. Here's an example:\n",
    "result = not True  # This will result in False\n",
    "# These Boolean operators are often used to create more complex conditions and control the flow of your Python programs based on different logical conditions."
   ]
  },
  {
   "cell_type": "code",
   "execution_count": 1,
   "id": "d3771266-adef-4ee7-97a2-e38c288fb6aa",
   "metadata": {},
   "outputs": [
    {
     "ename": "SyntaxError",
     "evalue": "cannot assign to expression (2894107785.py, line 4)",
     "output_type": "error",
     "traceback": [
      "\u001b[0;36m  Cell \u001b[0;32mIn [1], line 4\u001b[0;36m\u001b[0m\n\u001b[0;31m    True  and True  => True\u001b[0m\n\u001b[0m    ^\u001b[0m\n\u001b[0;31mSyntaxError\u001b[0m\u001b[0;31m:\u001b[0m cannot assign to expression\n"
     ]
    }
   ],
   "source": [
    "## 3. Make a list of each Boolean operators truth tables (i.e. every possible combination of Boolean values for the operator and what it evaluate ).\n",
    "## Ans-Certainly! Here are the truth tables for each of the Boolean operators (and, or, and not) in Python:\n",
    "# and Operator Truth Table:\n",
    "True  and True  => True\n",
    "True  and False => False\n",
    "False and True  => False\n",
    "False and False => False\n",
    "# or Operator Truth Table:\n",
    "True  or True  => True\n",
    "True  or False => True\n",
    "False or True  => True\n",
    "False or False => False\n",
    "# not Operator Truth Table:\n",
    "not True  => False\n",
    "not False => True\n",
    "#These truth tables represent all possible combinations of Boolean values for each operator and the result of the evaluation.\n",
    "#These tables are fundamental for understanding how these operators work and for making logical decisions in Python programs.\n",
    "\n",
    "\n"
   ]
  },
  {
   "cell_type": "code",
   "execution_count": null,
   "id": "cc76fa89-21c8-4cfc-a52e-5cef2282b819",
   "metadata": {},
   "outputs": [],
   "source": [
    "##4. What are the values of the following expressions?\n",
    "(5 > 4) and (3 == 5) -------------------- False\n",
    "not (5> 4)----- ------------------------- False\n",
    "(5 > 4) or (3 == 5)---------------------- True\n",
    "not ((5 > 4) or (3 == 5))---------------- False\n",
    "(True and True) and (True == False)------ False\n",
    "(not False) or (not True)---------------- True\n"
   ]
  },
  {
   "cell_type": "markdown",
   "id": "0f4bb5d3-7e12-4a23-b53d-3064937b0d58",
   "metadata": {},
   "source": [
    "5. What are the six comparison operators?\n",
    "ANS-In Python, there are six comparison operators used to compare values and create Boolean expressions. These operators allow you to compare two values and determine whether a specific condition is true or false. Here are the six comparison operators:\n",
    "\n",
    "== (Equal to): Checks if two values are equal. Example: 5 == 5 evaluates to True.\n",
    "\n",
    "!= (Not equal to): Checks if two values are not equal. Example: 5 != 3 evaluates to True.\n",
    "\n",
    "< (Less than): Checks if the left value is less than the right value. Example: 3 < 5 evaluates to True.\n",
    "\n",
    "> (Greater than): Checks if the left value is greater than the right value. Example: 5 > 3 evaluates to True.\n",
    "\n",
    "<= (Less than or equal to): Checks if the left value is less than or equal to the right value. Example: 3 <= 5 evaluates to True.\n",
    "\n",
    ">= (Greater than or equal to): Checks if the left value is greater than or equal to the right value. Example: 5 >= 5 evaluates to True.\n",
    "\n",
    "These comparison operators are commonly used in conditional statements and expressions to make decisions and control the flow of your Python programs based on the results of these comparisons."
   ]
  },
  {
   "cell_type": "markdown",
   "id": "61e28cdf-1026-45c4-a2fc-af9507fe4788",
   "metadata": {},
   "source": [
    "6. How do you tell the difference between the equal to and assignment operators?Describe a\n",
    "condition and when you would use one.\n",
    "ANS-In Python, the equal to operator (==) and the assignment operator (=) serve distinct purposes, and you can differentiate them based on their usage and context:\n",
    "\n",
    "Equal To Operator (==):\n",
    "\n",
    "The equal to operator is used to compare two values to determine if they are equal.\n",
    "It is used in conditional statements and expressions to check whether a specific condition is true or false.\n",
    "The equal to operator returns a Boolean result (True if the values are equal, False if they are not).\n",
    "Example:\n",
    "\n",
    "x = 5\n",
    "y = 3\n",
    "result = (x == y)  # This checks if x is equal to y and assigns the result to the variable 'result'\n",
    "In this example, result will be False because x is not equal to y.\n",
    "\n",
    "Assignment Operator (=):\n",
    "\n",
    "The assignment operator is used to assign a value to a variable.\n",
    "It is used to store data in variables for later use in your program.\n",
    "The assignment operator does not compare values; it simply assigns the value on the right side of the operator to the variable on the left side.\n",
    "Example:\n",
    "\n",
    "x = 5  # This assigns the value 5 to the variable 'x'\n",
    "y = x  # This assigns the value of 'x' (which is 5) to the variable 'y'\n",
    "In this example, x is assigned the value 5, and y is assigned the same value as x, which is 5.\n",
    "\n",
    "In summary, the key difference is that the equal to operator (==) is used for comparisons to determine equality, while the assignment operator (=) is used to assign values to variables. You would use the equal to operator when you need to compare values in conditions (e.g., in if statements) to make decisions in your code, and you would use the assignment operator when you want to store data in variables for later use or manipulation within your program.\n",
    "\n"
   ]
  },
  {
   "cell_type": "code",
   "execution_count": null,
   "id": "4cb263fe-3e24-40bb-8bbb-6bf9ff709bfb",
   "metadata": {},
   "outputs": [],
   "source": [
    "7. Identify the three blocks in this code:\n",
    "spam = 0\n",
    "if spam == 10:\n",
    "print('eggs')\n",
    "if spam > 5:\n",
    "print('bacon')\n",
    "else:\n",
    "print('ham')\n",
    "print('spam')\n",
    "print('spam')\n",
    "\n",
    "ANS-Now, let's break down what this code does step by step:\n",
    "\n",
    "spam is initialized with a value of 0.\n",
    "\n",
    "The first if statement checks if spam is equal to 10. Since spam is 0, this condition is not met, so the code inside this block (the print('eggs') line) is not executed.\n",
    "\n",
    "The second if statement checks if spam is greater than 5. Again, since spam is 0, this condition is not met. Therefore, the code inside the else block (the print('ham') line) is executed.\n",
    "\n",
    "The print('spam') line is executed twice, printing \"spam\" to the console twice.\n",
    "\n",
    "So, the output of this code will be:\n",
    "\n",
    "ham\n",
    "spam\n",
    "spam\n",
    "The \"eggs\" and \"bacon\" strings are not printed because their respective if conditions are not met.\n",
    "\n",
    "\n"
   ]
  },
  {
   "cell_type": "code",
   "execution_count": 7,
   "id": "589a14a7-2967-47c1-8d85-fb3db2adefdd",
   "metadata": {},
   "outputs": [
    {
     "name": "stdin",
     "output_type": "stream",
     "text": [
      "enter thr number 4\n"
     ]
    },
    {
     "name": "stdout",
     "output_type": "stream",
     "text": [
      "greetings\n"
     ]
    }
   ],
   "source": [
    "#8. Write code that prints Hello if 1 is stored in spam, prints Howdy if 2 is stored in spam, and prints\n",
    "#Greetings! if anything else is stored in spam.\n",
    "spam=int(input(\"enter thr number\"))\n",
    "\n",
    "if spam==1:\n",
    "    print(\"hello\")\n",
    "elif spam==2:\n",
    "    print(\"howdy\")\n",
    "else:\n",
    "          print(\"greetings\")"
   ]
  },
  {
   "cell_type": "markdown",
   "id": "2502ea92-3763-4845-b614-ce9780a349c7",
   "metadata": {},
   "source": [
    "9.If your programme is stuck in an endless loop, what keys you’ll press?\n",
    "#Ans-In Python, if your program is stuck in an endless loop and you want to stop its execution, you can typically use one of the following methods:\n",
    "\n",
    " Ctrl + C (Keyboard Interrupt): Pressing Ctrl + C in the terminal where your Python program is running will send a KeyboardInterrupt signal, which will interrupt the program and stop its execution.\n",
    "##This is the most common way to break out of an endless loop in Python.\n",
    "\n",
    " Ctrl + \\ (Keyboard Quit): On some systems, you can press Ctrl + \\ (backslash) to send a quit signal, which will also terminate the program."
   ]
  },
  {
   "cell_type": "markdown",
   "id": "d0de4800-dddf-4349-a0ec-dbd2977c789d",
   "metadata": {},
   "source": [
    "10.10. How can you tell the difference between break and continue?\n",
    "ans-In Python, break and continue are two different control flow statements used within loops (like for and while) to control the flow of the program. They serve distinct purposes:\n",
    "\n",
    "break Statement:\n",
    "\n",
    "The break statement is used to exit or break out of the current loop prematurely.\n",
    "When break is encountered inside a loop, it immediately terminates the loop, and control is transferred to the statement immediately following the loop.\n",
    "It is typically used when you want to exit a loop early based on a specific condition or event.\n",
    "\n",
    "continue Statement:\n",
    "\n",
    "The continue statement is used to skip the current iteration of a loop and move to the next iteration.\n",
    "When continue is encountered inside a loop, it bypasses the remaining code for the current iteration and proceeds to the next iteration.\n",
    "It is typically used when you want to skip a specific iteration of a loop but continue with the loop.\n",
    "\n",
    "\n",
    "In summary, break is used to exit a loop prematurely, while continue is used to skip the current iteration and move to the next one. These statements are handy for controlling the flow of loops based on specific conditions or events within your code.\n",
    "\n",
    "\n"
   ]
  },
  {
   "cell_type": "code",
   "execution_count": 10,
   "id": "968a5602-f73a-42c6-94aa-04abfebd6c07",
   "metadata": {},
   "outputs": [
    {
     "name": "stdout",
     "output_type": "stream",
     "text": [
      "1\n",
      "2\n",
      "3\n",
      "4\n"
     ]
    }
   ],
   "source": [
    "#Example of break\n",
    "\n",
    "for i in range(1, 10):\n",
    "    if i == 5:\n",
    "        break  # Exit the loop when i equals 5\n",
    "    print(i)\n"
   ]
  },
  {
   "cell_type": "code",
   "execution_count": 9,
   "id": "c9919ab4-014d-4bbb-80e1-2de9926736dd",
   "metadata": {},
   "outputs": [
    {
     "name": "stdout",
     "output_type": "stream",
     "text": [
      "1\n",
      "2\n",
      "3\n",
      "5\n",
      "6\n"
     ]
    }
   ],
   "source": [
    "##Example of continue\n",
    "for i in range(1,7):\n",
    "    if i==4:\n",
    "        continue ## skip that iteration when i ==3 \n",
    "    print(i)"
   ]
  },
  {
   "cell_type": "markdown",
   "id": "1b1749aa-edcb-46e7-a813-3ae04c6468ef",
   "metadata": {},
   "source": [
    "11. In a for loop, what is the difference between range(10), range(0, 10), and range(0, 10, 1)?\n",
    "range(10):\n",
    "\n",
    "This generates a sequence of numbers starting from 0 (the default start value) up to, but not including, 10 (the specified stop value).\n",
    "It uses the default step value of 1, meaning it will increment by 1 for each iteration.\n",
    "Example:\n",
    "\n",
    "for i in range(10):\n",
    "    print(i)\n",
    "Output:\n",
    "\n",
    "0\n",
    "1\n",
    "2\n",
    "3\n",
    "4\n",
    "5\n",
    "6\n",
    "7\n",
    "8\n",
    "9\n",
    "range(0, 10):\n",
    "\n",
    "This is explicitly specifying the start value (0) and the stop value (10), but it still uses the default step value of 1.\n",
    "The result is the same as range(10) because the start value is 0 and the step value is 1 by default.\n",
    "Example:\n",
    "\n",
    "for i in range(0, 10):\n",
    "    print(i)\n",
    "Output is the same as the previous example.\n",
    "\n",
    "range(0, 10, 1):\n",
    "\n",
    "This is explicitly specifying the start value (0), stop value (10), and step value (1).\n",
    "Just like the previous examples, it generates the same sequence of numbers from 0 to 9, incrementing by 1 for each iteration.\n",
    "Example:\n",
    "\n",
    "for i in range(0, 10, 1):\n",
    "    print(i)\n",
    "Output is the same as the previous examples.\n",
    "\n",
    "In practice, the choice between these forms depends on your preference and code readability. The default values make the code more concise, so range(10) is often used. However, if you want to be explicit about the start, stop, or step values, you can use the other forms for clarity.\n"
   ]
  },
  {
   "cell_type": "code",
   "execution_count": 11,
   "id": "a5f1a4b2-5c81-46a4-a231-e71972d6a98d",
   "metadata": {},
   "outputs": [
    {
     "name": "stdout",
     "output_type": "stream",
     "text": [
      "0\n",
      "1\n",
      "2\n",
      "3\n",
      "4\n",
      "5\n",
      "6\n",
      "7\n",
      "8\n",
      "9\n"
     ]
    }
   ],
   "source": [
    "#Example\n",
    "for i in range(10):\n",
    "    print(i)"
   ]
  },
  {
   "cell_type": "code",
   "execution_count": 12,
   "id": "071f8f6d-d86c-45d3-8a54-3cb528a91911",
   "metadata": {},
   "outputs": [
    {
     "name": "stdout",
     "output_type": "stream",
     "text": [
      "0\n",
      "1\n",
      "2\n",
      "3\n",
      "4\n",
      "5\n",
      "6\n",
      "7\n",
      "8\n",
      "9\n"
     ]
    }
   ],
   "source": [
    "for i in range(0,10):\n",
    "    print(i)"
   ]
  },
  {
   "cell_type": "code",
   "execution_count": 13,
   "id": "30b0ccf1-1ea4-4bd9-9863-510568566110",
   "metadata": {},
   "outputs": [
    {
     "name": "stdout",
     "output_type": "stream",
     "text": [
      "0\n",
      "1\n",
      "2\n",
      "3\n",
      "4\n",
      "5\n",
      "6\n",
      "7\n",
      "8\n",
      "9\n"
     ]
    }
   ],
   "source": [
    "for i in range(0,10,1):\n",
    "    print(i)"
   ]
  },
  {
   "cell_type": "code",
   "execution_count": 2,
   "id": "469c1540-00ba-4a50-906f-85fe04f127ab",
   "metadata": {},
   "outputs": [
    {
     "name": "stdout",
     "output_type": "stream",
     "text": [
      "0\n",
      "1\n",
      "2\n",
      "3\n",
      "4\n",
      "5\n",
      "6\n",
      "7\n",
      "8\n",
      "9\n",
      "10\n"
     ]
    }
   ],
   "source": [
    "#12. Write a short program that prints the numbers 1 to 10 using a for loop. Then write an equivalent\n",
    "#program that prints the numbers 1 to 10 using a while loop.\n",
    "for i in range(0,11):\n",
    "    print(i)"
   ]
  },
  {
   "cell_type": "code",
   "execution_count": 3,
   "id": "e53c3745-1108-4ee1-a491-bad3dd83e903",
   "metadata": {},
   "outputs": [
    {
     "name": "stdout",
     "output_type": "stream",
     "text": [
      "1\n",
      "2\n",
      "3\n",
      "4\n",
      "5\n",
      "6\n",
      "7\n",
      "8\n",
      "9\n",
      "10\n"
     ]
    }
   ],
   "source": [
    "i=1\n",
    "while i<=10:\n",
    "    print(i)\n",
    "    i = i + 1"
   ]
  },
  {
   "cell_type": "code",
   "execution_count": null,
   "id": "0ff76c8a-22b1-4150-9f54-92a7428fd576",
   "metadata": {},
   "outputs": [],
   "source": [
    "#13. If you had a function named bacon() inside a module named spam, how would you call it after\n",
    "#importing spam?\n",
    "#ans- if you have a function named bacon() inside a module named spam, you can call it after importing the spam module by using the dot notation.\n",
    "#Here's how you would call the bacon() function:\n",
    "\n",
    "import spam\n",
    "\n",
    "result = spam.bacon()\n",
    "#In this example, you first import the spam module using the import statement.\n",
    "#Then, to call the bacon() function, you use spam.bacon(), where spam is the module name, and bacon() is the function name.\n",
    "#The result of the function call (if it returns anything) will be stored in the result variable, which you can use as needed.\n"
   ]
  }
 ],
 "metadata": {
  "kernelspec": {
   "display_name": "Python 3 (ipykernel)",
   "language": "python",
   "name": "python3"
  },
  "language_info": {
   "codemirror_mode": {
    "name": "ipython",
    "version": 3
   },
   "file_extension": ".py",
   "mimetype": "text/x-python",
   "name": "python",
   "nbconvert_exporter": "python",
   "pygments_lexer": "ipython3",
   "version": "3.10.6"
  }
 },
 "nbformat": 4,
 "nbformat_minor": 5
}
